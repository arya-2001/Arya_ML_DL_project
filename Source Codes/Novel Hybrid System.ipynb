{
  "nbformat": 4,
  "nbformat_minor": 0,
  "metadata": {
    "colab": {
      "provenance": []
    },
    "kernelspec": {
      "name": "python3",
      "display_name": "Python 3"
    },
    "language_info": {
      "name": "python"
    }
  },
  "cells": [
    {
      "cell_type": "code",
      "execution_count": null,
      "metadata": {
        "id": "XN4syI-77ws-"
      },
      "outputs": [],
      "source": [
        "import pandas as pd\n",
        "import numpy as np\n",
        "import matplotlib.pyplot as plt\n",
        "import seaborn as sns\n",
        "from sklearn.metrics import confusion_matrix, accuracy_score"
      ]
    },
    {
      "cell_type": "code",
      "execution_count": null,
      "metadata": {
        "colab": {
          "base_uri": "https://localhost:8080/"
        },
        "id": "rYi5zO3gNvZC",
        "outputId": "9e9952b0-b74e-4434-e21b-a662b000cdf9"
      },
      "outputs": [
        {
          "output_type": "stream",
          "name": "stdout",
          "text": [
            "2.12.0\n"
          ]
        }
      ],
      "source": [
        "import tensorflow as tf\n",
        "print(tf.__version__)"
      ]
    },
    {
      "cell_type": "code",
      "execution_count": null,
      "metadata": {
        "id": "J3M_gMRa8JYv"
      },
      "outputs": [],
      "source": [
        "#NLP Libraries\n",
        "import nltk\n",
        "from nltk.sentiment.vader import SentimentIntensityAnalyzer\n",
        "import re\n",
        "from nltk.corpus import stopwords\n",
        "from nltk.stem.porter import PorterStemmer"
      ]
    },
    {
      "cell_type": "code",
      "execution_count": null,
      "metadata": {
        "id": "pxnu8IY78Lc9"
      },
      "outputs": [],
      "source": [
        "#Deep Learning Libraries\n",
        "import tensorflow as tf\n",
        "from tensorflow.keras.layers import Embedding\n",
        "from tensorflow.keras.preprocessing.sequence import pad_sequences\n",
        "from tensorflow.keras.models import Sequential\n",
        "from tensorflow.keras.layers import LSTM\n",
        "from tensorflow.keras.preprocessing.text import Tokenizer\n",
        "from tensorflow.keras.layers import Dense\n",
        "from tensorflow.keras.preprocessing.text import one_hot\n",
        "from tensorflow.keras.layers import Bidirectional\n",
        "\n",
        "#Vocabulary Size\n",
        "vocab_size=10000"
      ]
    },
    {
      "cell_type": "code",
      "source": [
        "from sklearn.linear_model import LogisticRegression\n",
        "from sklearn.ensemble import RandomForestClassifier\n",
        "from sklearn.svm import LinearSVC\n",
        "from sklearn.naive_bayes import MultinomialNB"
      ],
      "metadata": {
        "id": "XhN7drf6QF-v"
      },
      "execution_count": null,
      "outputs": []
    },
    {
      "cell_type": "code",
      "execution_count": null,
      "metadata": {
        "colab": {
          "base_uri": "https://localhost:8080/"
        },
        "id": "56uvEywi8XAY",
        "outputId": "830ea922-1c01-4432-e6d6-cf9cc232419d"
      },
      "outputs": [
        {
          "output_type": "stream",
          "name": "stdout",
          "text": [
            "Mounted at /content/drive\n"
          ]
        }
      ],
      "source": [
        "#Mount at drive\n",
        "import sys\n",
        "from google.colab import drive\n",
        "from pathlib import Path\n",
        "drive.mount(\"/content/drive\", force_remount=True)"
      ]
    },
    {
      "cell_type": "code",
      "source": [
        "df= pd.read_csv('/content/drive/MyDrive/Identifying Suicidal Intent through Depression Detection from Texts using Machine Learning Techniques/Dataset/Original Dataset/Suicide and Depression Detection.csv')\n",
        "\n",
        "df.shape"
      ],
      "metadata": {
        "colab": {
          "base_uri": "https://localhost:8080/"
        },
        "id": "jfwLPfbwil7l",
        "outputId": "d8b28056-0a32-4074-b62e-744f60db4e86"
      },
      "execution_count": null,
      "outputs": [
        {
          "output_type": "execute_result",
          "data": {
            "text/plain": [
              "(232074, 3)"
            ]
          },
          "metadata": {},
          "execution_count": 7
        }
      ]
    },
    {
      "cell_type": "code",
      "source": [
        "df.head(10)"
      ],
      "metadata": {
        "colab": {
          "base_uri": "https://localhost:8080/",
          "height": 363
        },
        "id": "8Ym2zJ5UfFEz",
        "outputId": "be962af5-b6cd-417e-9858-3bbe8a7662b9"
      },
      "execution_count": null,
      "outputs": [
        {
          "output_type": "execute_result",
          "data": {
            "text/plain": [
              "   Unnamed: 0                                               text        class\n",
              "0           2  Ex Wife Threatening SuicideRecently I left my ...      suicide\n",
              "1           3  Am I weird I don't get affected by compliments...  non-suicide\n",
              "2           4  Finally 2020 is almost over... So I can never ...  non-suicide\n",
              "3           8          i need helpjust help me im crying so hard      suicide\n",
              "4           9  I’m so lostHello, my name is Adam (16) and I’v...      suicide\n",
              "5          11  Honetly idkI dont know what im even doing here...      suicide\n",
              "6          12  [Trigger warning] Excuse for self inflicted bu...      suicide\n",
              "7          13   It ends tonight.I can’t do it anymore. \\nI quit.      suicide\n",
              "8          16  Everyone wants to be \"edgy\" and it's making me...  non-suicide\n",
              "9          18  My life is over at 20 years oldHello all. I am...      suicide"
            ],
            "text/html": [
              "\n",
              "  <div id=\"df-9c8b4afb-f9e8-4dba-93af-6ad9f9679cca\">\n",
              "    <div class=\"colab-df-container\">\n",
              "      <div>\n",
              "<style scoped>\n",
              "    .dataframe tbody tr th:only-of-type {\n",
              "        vertical-align: middle;\n",
              "    }\n",
              "\n",
              "    .dataframe tbody tr th {\n",
              "        vertical-align: top;\n",
              "    }\n",
              "\n",
              "    .dataframe thead th {\n",
              "        text-align: right;\n",
              "    }\n",
              "</style>\n",
              "<table border=\"1\" class=\"dataframe\">\n",
              "  <thead>\n",
              "    <tr style=\"text-align: right;\">\n",
              "      <th></th>\n",
              "      <th>Unnamed: 0</th>\n",
              "      <th>text</th>\n",
              "      <th>class</th>\n",
              "    </tr>\n",
              "  </thead>\n",
              "  <tbody>\n",
              "    <tr>\n",
              "      <th>0</th>\n",
              "      <td>2</td>\n",
              "      <td>Ex Wife Threatening SuicideRecently I left my ...</td>\n",
              "      <td>suicide</td>\n",
              "    </tr>\n",
              "    <tr>\n",
              "      <th>1</th>\n",
              "      <td>3</td>\n",
              "      <td>Am I weird I don't get affected by compliments...</td>\n",
              "      <td>non-suicide</td>\n",
              "    </tr>\n",
              "    <tr>\n",
              "      <th>2</th>\n",
              "      <td>4</td>\n",
              "      <td>Finally 2020 is almost over... So I can never ...</td>\n",
              "      <td>non-suicide</td>\n",
              "    </tr>\n",
              "    <tr>\n",
              "      <th>3</th>\n",
              "      <td>8</td>\n",
              "      <td>i need helpjust help me im crying so hard</td>\n",
              "      <td>suicide</td>\n",
              "    </tr>\n",
              "    <tr>\n",
              "      <th>4</th>\n",
              "      <td>9</td>\n",
              "      <td>I’m so lostHello, my name is Adam (16) and I’v...</td>\n",
              "      <td>suicide</td>\n",
              "    </tr>\n",
              "    <tr>\n",
              "      <th>5</th>\n",
              "      <td>11</td>\n",
              "      <td>Honetly idkI dont know what im even doing here...</td>\n",
              "      <td>suicide</td>\n",
              "    </tr>\n",
              "    <tr>\n",
              "      <th>6</th>\n",
              "      <td>12</td>\n",
              "      <td>[Trigger warning] Excuse for self inflicted bu...</td>\n",
              "      <td>suicide</td>\n",
              "    </tr>\n",
              "    <tr>\n",
              "      <th>7</th>\n",
              "      <td>13</td>\n",
              "      <td>It ends tonight.I can’t do it anymore. \\nI quit.</td>\n",
              "      <td>suicide</td>\n",
              "    </tr>\n",
              "    <tr>\n",
              "      <th>8</th>\n",
              "      <td>16</td>\n",
              "      <td>Everyone wants to be \"edgy\" and it's making me...</td>\n",
              "      <td>non-suicide</td>\n",
              "    </tr>\n",
              "    <tr>\n",
              "      <th>9</th>\n",
              "      <td>18</td>\n",
              "      <td>My life is over at 20 years oldHello all. I am...</td>\n",
              "      <td>suicide</td>\n",
              "    </tr>\n",
              "  </tbody>\n",
              "</table>\n",
              "</div>\n",
              "      <button class=\"colab-df-convert\" onclick=\"convertToInteractive('df-9c8b4afb-f9e8-4dba-93af-6ad9f9679cca')\"\n",
              "              title=\"Convert this dataframe to an interactive table.\"\n",
              "              style=\"display:none;\">\n",
              "        \n",
              "  <svg xmlns=\"http://www.w3.org/2000/svg\" height=\"24px\"viewBox=\"0 0 24 24\"\n",
              "       width=\"24px\">\n",
              "    <path d=\"M0 0h24v24H0V0z\" fill=\"none\"/>\n",
              "    <path d=\"M18.56 5.44l.94 2.06.94-2.06 2.06-.94-2.06-.94-.94-2.06-.94 2.06-2.06.94zm-11 1L8.5 8.5l.94-2.06 2.06-.94-2.06-.94L8.5 2.5l-.94 2.06-2.06.94zm10 10l.94 2.06.94-2.06 2.06-.94-2.06-.94-.94-2.06-.94 2.06-2.06.94z\"/><path d=\"M17.41 7.96l-1.37-1.37c-.4-.4-.92-.59-1.43-.59-.52 0-1.04.2-1.43.59L10.3 9.45l-7.72 7.72c-.78.78-.78 2.05 0 2.83L4 21.41c.39.39.9.59 1.41.59.51 0 1.02-.2 1.41-.59l7.78-7.78 2.81-2.81c.8-.78.8-2.07 0-2.86zM5.41 20L4 18.59l7.72-7.72 1.47 1.35L5.41 20z\"/>\n",
              "  </svg>\n",
              "      </button>\n",
              "      \n",
              "  <style>\n",
              "    .colab-df-container {\n",
              "      display:flex;\n",
              "      flex-wrap:wrap;\n",
              "      gap: 12px;\n",
              "    }\n",
              "\n",
              "    .colab-df-convert {\n",
              "      background-color: #E8F0FE;\n",
              "      border: none;\n",
              "      border-radius: 50%;\n",
              "      cursor: pointer;\n",
              "      display: none;\n",
              "      fill: #1967D2;\n",
              "      height: 32px;\n",
              "      padding: 0 0 0 0;\n",
              "      width: 32px;\n",
              "    }\n",
              "\n",
              "    .colab-df-convert:hover {\n",
              "      background-color: #E2EBFA;\n",
              "      box-shadow: 0px 1px 2px rgba(60, 64, 67, 0.3), 0px 1px 3px 1px rgba(60, 64, 67, 0.15);\n",
              "      fill: #174EA6;\n",
              "    }\n",
              "\n",
              "    [theme=dark] .colab-df-convert {\n",
              "      background-color: #3B4455;\n",
              "      fill: #D2E3FC;\n",
              "    }\n",
              "\n",
              "    [theme=dark] .colab-df-convert:hover {\n",
              "      background-color: #434B5C;\n",
              "      box-shadow: 0px 1px 3px 1px rgba(0, 0, 0, 0.15);\n",
              "      filter: drop-shadow(0px 1px 2px rgba(0, 0, 0, 0.3));\n",
              "      fill: #FFFFFF;\n",
              "    }\n",
              "  </style>\n",
              "\n",
              "      <script>\n",
              "        const buttonEl =\n",
              "          document.querySelector('#df-9c8b4afb-f9e8-4dba-93af-6ad9f9679cca button.colab-df-convert');\n",
              "        buttonEl.style.display =\n",
              "          google.colab.kernel.accessAllowed ? 'block' : 'none';\n",
              "\n",
              "        async function convertToInteractive(key) {\n",
              "          const element = document.querySelector('#df-9c8b4afb-f9e8-4dba-93af-6ad9f9679cca');\n",
              "          const dataTable =\n",
              "            await google.colab.kernel.invokeFunction('convertToInteractive',\n",
              "                                                     [key], {});\n",
              "          if (!dataTable) return;\n",
              "\n",
              "          const docLinkHtml = 'Like what you see? Visit the ' +\n",
              "            '<a target=\"_blank\" href=https://colab.research.google.com/notebooks/data_table.ipynb>data table notebook</a>'\n",
              "            + ' to learn more about interactive tables.';\n",
              "          element.innerHTML = '';\n",
              "          dataTable['output_type'] = 'display_data';\n",
              "          await google.colab.output.renderOutput(dataTable, element);\n",
              "          const docLink = document.createElement('div');\n",
              "          docLink.innerHTML = docLinkHtml;\n",
              "          element.appendChild(docLink);\n",
              "        }\n",
              "      </script>\n",
              "    </div>\n",
              "  </div>\n",
              "  "
            ]
          },
          "metadata": {},
          "execution_count": 8
        }
      ]
    },
    {
      "cell_type": "code",
      "execution_count": null,
      "metadata": {
        "colab": {
          "base_uri": "https://localhost:8080/",
          "height": 363
        },
        "id": "HjBapLIUuR_P",
        "outputId": "f5314de8-8688-4994-d0fb-042aeaf36384"
      },
      "outputs": [
        {
          "output_type": "execute_result",
          "data": {
            "text/plain": [
              "   Unnamed: 0                                               text  class\n",
              "0           2  Ex Wife Threatening SuicideRecently I left my ...      1\n",
              "1           3  Am I weird I don't get affected by compliments...      0\n",
              "2           4  Finally 2020 is almost over... So I can never ...      0\n",
              "3           8          i need helpjust help me im crying so hard      1\n",
              "4           9  I’m so lostHello, my name is Adam (16) and I’v...      1\n",
              "5          11  Honetly idkI dont know what im even doing here...      1\n",
              "6          12  [Trigger warning] Excuse for self inflicted bu...      1\n",
              "7          13   It ends tonight.I can’t do it anymore. \\nI quit.      1\n",
              "8          16  Everyone wants to be \"edgy\" and it's making me...      0\n",
              "9          18  My life is over at 20 years oldHello all. I am...      1"
            ],
            "text/html": [
              "\n",
              "  <div id=\"df-e035a778-9f55-4d4b-a2a6-eb9f3738ff85\">\n",
              "    <div class=\"colab-df-container\">\n",
              "      <div>\n",
              "<style scoped>\n",
              "    .dataframe tbody tr th:only-of-type {\n",
              "        vertical-align: middle;\n",
              "    }\n",
              "\n",
              "    .dataframe tbody tr th {\n",
              "        vertical-align: top;\n",
              "    }\n",
              "\n",
              "    .dataframe thead th {\n",
              "        text-align: right;\n",
              "    }\n",
              "</style>\n",
              "<table border=\"1\" class=\"dataframe\">\n",
              "  <thead>\n",
              "    <tr style=\"text-align: right;\">\n",
              "      <th></th>\n",
              "      <th>Unnamed: 0</th>\n",
              "      <th>text</th>\n",
              "      <th>class</th>\n",
              "    </tr>\n",
              "  </thead>\n",
              "  <tbody>\n",
              "    <tr>\n",
              "      <th>0</th>\n",
              "      <td>2</td>\n",
              "      <td>Ex Wife Threatening SuicideRecently I left my ...</td>\n",
              "      <td>1</td>\n",
              "    </tr>\n",
              "    <tr>\n",
              "      <th>1</th>\n",
              "      <td>3</td>\n",
              "      <td>Am I weird I don't get affected by compliments...</td>\n",
              "      <td>0</td>\n",
              "    </tr>\n",
              "    <tr>\n",
              "      <th>2</th>\n",
              "      <td>4</td>\n",
              "      <td>Finally 2020 is almost over... So I can never ...</td>\n",
              "      <td>0</td>\n",
              "    </tr>\n",
              "    <tr>\n",
              "      <th>3</th>\n",
              "      <td>8</td>\n",
              "      <td>i need helpjust help me im crying so hard</td>\n",
              "      <td>1</td>\n",
              "    </tr>\n",
              "    <tr>\n",
              "      <th>4</th>\n",
              "      <td>9</td>\n",
              "      <td>I’m so lostHello, my name is Adam (16) and I’v...</td>\n",
              "      <td>1</td>\n",
              "    </tr>\n",
              "    <tr>\n",
              "      <th>5</th>\n",
              "      <td>11</td>\n",
              "      <td>Honetly idkI dont know what im even doing here...</td>\n",
              "      <td>1</td>\n",
              "    </tr>\n",
              "    <tr>\n",
              "      <th>6</th>\n",
              "      <td>12</td>\n",
              "      <td>[Trigger warning] Excuse for self inflicted bu...</td>\n",
              "      <td>1</td>\n",
              "    </tr>\n",
              "    <tr>\n",
              "      <th>7</th>\n",
              "      <td>13</td>\n",
              "      <td>It ends tonight.I can’t do it anymore. \\nI quit.</td>\n",
              "      <td>1</td>\n",
              "    </tr>\n",
              "    <tr>\n",
              "      <th>8</th>\n",
              "      <td>16</td>\n",
              "      <td>Everyone wants to be \"edgy\" and it's making me...</td>\n",
              "      <td>0</td>\n",
              "    </tr>\n",
              "    <tr>\n",
              "      <th>9</th>\n",
              "      <td>18</td>\n",
              "      <td>My life is over at 20 years oldHello all. I am...</td>\n",
              "      <td>1</td>\n",
              "    </tr>\n",
              "  </tbody>\n",
              "</table>\n",
              "</div>\n",
              "      <button class=\"colab-df-convert\" onclick=\"convertToInteractive('df-e035a778-9f55-4d4b-a2a6-eb9f3738ff85')\"\n",
              "              title=\"Convert this dataframe to an interactive table.\"\n",
              "              style=\"display:none;\">\n",
              "        \n",
              "  <svg xmlns=\"http://www.w3.org/2000/svg\" height=\"24px\"viewBox=\"0 0 24 24\"\n",
              "       width=\"24px\">\n",
              "    <path d=\"M0 0h24v24H0V0z\" fill=\"none\"/>\n",
              "    <path d=\"M18.56 5.44l.94 2.06.94-2.06 2.06-.94-2.06-.94-.94-2.06-.94 2.06-2.06.94zm-11 1L8.5 8.5l.94-2.06 2.06-.94-2.06-.94L8.5 2.5l-.94 2.06-2.06.94zm10 10l.94 2.06.94-2.06 2.06-.94-2.06-.94-.94-2.06-.94 2.06-2.06.94z\"/><path d=\"M17.41 7.96l-1.37-1.37c-.4-.4-.92-.59-1.43-.59-.52 0-1.04.2-1.43.59L10.3 9.45l-7.72 7.72c-.78.78-.78 2.05 0 2.83L4 21.41c.39.39.9.59 1.41.59.51 0 1.02-.2 1.41-.59l7.78-7.78 2.81-2.81c.8-.78.8-2.07 0-2.86zM5.41 20L4 18.59l7.72-7.72 1.47 1.35L5.41 20z\"/>\n",
              "  </svg>\n",
              "      </button>\n",
              "      \n",
              "  <style>\n",
              "    .colab-df-container {\n",
              "      display:flex;\n",
              "      flex-wrap:wrap;\n",
              "      gap: 12px;\n",
              "    }\n",
              "\n",
              "    .colab-df-convert {\n",
              "      background-color: #E8F0FE;\n",
              "      border: none;\n",
              "      border-radius: 50%;\n",
              "      cursor: pointer;\n",
              "      display: none;\n",
              "      fill: #1967D2;\n",
              "      height: 32px;\n",
              "      padding: 0 0 0 0;\n",
              "      width: 32px;\n",
              "    }\n",
              "\n",
              "    .colab-df-convert:hover {\n",
              "      background-color: #E2EBFA;\n",
              "      box-shadow: 0px 1px 2px rgba(60, 64, 67, 0.3), 0px 1px 3px 1px rgba(60, 64, 67, 0.15);\n",
              "      fill: #174EA6;\n",
              "    }\n",
              "\n",
              "    [theme=dark] .colab-df-convert {\n",
              "      background-color: #3B4455;\n",
              "      fill: #D2E3FC;\n",
              "    }\n",
              "\n",
              "    [theme=dark] .colab-df-convert:hover {\n",
              "      background-color: #434B5C;\n",
              "      box-shadow: 0px 1px 3px 1px rgba(0, 0, 0, 0.15);\n",
              "      filter: drop-shadow(0px 1px 2px rgba(0, 0, 0, 0.3));\n",
              "      fill: #FFFFFF;\n",
              "    }\n",
              "  </style>\n",
              "\n",
              "      <script>\n",
              "        const buttonEl =\n",
              "          document.querySelector('#df-e035a778-9f55-4d4b-a2a6-eb9f3738ff85 button.colab-df-convert');\n",
              "        buttonEl.style.display =\n",
              "          google.colab.kernel.accessAllowed ? 'block' : 'none';\n",
              "\n",
              "        async function convertToInteractive(key) {\n",
              "          const element = document.querySelector('#df-e035a778-9f55-4d4b-a2a6-eb9f3738ff85');\n",
              "          const dataTable =\n",
              "            await google.colab.kernel.invokeFunction('convertToInteractive',\n",
              "                                                     [key], {});\n",
              "          if (!dataTable) return;\n",
              "\n",
              "          const docLinkHtml = 'Like what you see? Visit the ' +\n",
              "            '<a target=\"_blank\" href=https://colab.research.google.com/notebooks/data_table.ipynb>data table notebook</a>'\n",
              "            + ' to learn more about interactive tables.';\n",
              "          element.innerHTML = '';\n",
              "          dataTable['output_type'] = 'display_data';\n",
              "          await google.colab.output.renderOutput(dataTable, element);\n",
              "          const docLink = document.createElement('div');\n",
              "          docLink.innerHTML = docLinkHtml;\n",
              "          element.appendChild(docLink);\n",
              "        }\n",
              "      </script>\n",
              "    </div>\n",
              "  </div>\n",
              "  "
            ]
          },
          "metadata": {},
          "execution_count": 9
        }
      ],
      "source": [
        "#df=dff\n",
        "#df=df_manual_testing\n",
        "#df =  shuffle(df).reset_index(drop=True)\n",
        "#df.drop([\"Unnamed: 2\", \"Unnamed: 3\",\t\"Unnamed: 4\",\t\"Unnamed: 5\",\t\"Unnamed: 6\",\t\"Unnamed: 7\",\t\"Unnamed: 8\",\t\"Unnamed: 9\"],axis=1, inplace=True)\n",
        "#df.drop([\"Unnamed: 0\", \"Positive\", \"Negative\", \"Neutral\", \"Compound\"],axis=1, inplace=True)\n",
        "#df.drop([\"Unnamed: 0\",\"Unnamed: 0.1\",\"title\",\"selftext\",\"author\",\"num_comments\",\"url\",\"title_clean\",\"author_clean\",\"selftext_length\",\"title_length\",\"megatext_clean\"], axis=1, inplace=True)\n",
        "#Class= {\"Ideation\": 1, \"Supportive\": 0,\"Attempt\":1,\"Behavior\":1,\"Indicator\":1}\n",
        "#Class={'self.Anxiety':0, 'self.bipolar':0, 'self.depression':1,'self.SuicideWatch':1, 'self.offmychest':0}\n",
        "#Class={\"No risk\":0,\"Risk\":1}\n",
        "Class={\"non-suicide\":0,\"suicide\":1}\n",
        "df=df.replace({\"class\":Class})\n",
        "#df = df.rename(columns={\"label\": \"class\"})\n",
        "#df = df.rename(columns={\"Post\": \"text\"})\n",
        "df.head(10)"
      ]
    },
    {
      "cell_type": "code",
      "source": [
        "df_manual_testing = df.tail(30000)\n",
        "for i in range(1,30001,-1):\n",
        "    df.drop([i], axis = 0, inplace = True)\n",
        "df=df_manual_testing"
      ],
      "metadata": {
        "id": "ujKuI9uvbyiV"
      },
      "execution_count": null,
      "outputs": []
    },
    {
      "cell_type": "code",
      "source": [
        "nltk.download('stopwords')"
      ],
      "metadata": {
        "colab": {
          "base_uri": "https://localhost:8080/"
        },
        "id": "_1UqJUPTpWWH",
        "outputId": "4e4c00aa-6cc6-44a5-9e94-7c32a58b1d4f"
      },
      "execution_count": null,
      "outputs": [
        {
          "output_type": "stream",
          "name": "stderr",
          "text": [
            "[nltk_data] Downloading package stopwords to /root/nltk_data...\n",
            "[nltk_data]   Unzipping corpora/stopwords.zip.\n"
          ]
        },
        {
          "output_type": "execute_result",
          "data": {
            "text/plain": [
              "True"
            ]
          },
          "metadata": {},
          "execution_count": 11
        }
      ]
    },
    {
      "cell_type": "code",
      "source": [
        "nltk.download('wordnet')\n",
        "from nltk.stem import WordNetLemmatizer"
      ],
      "metadata": {
        "colab": {
          "base_uri": "https://localhost:8080/"
        },
        "id": "8_eS-l7KLgoF",
        "outputId": "4e18b50a-57d6-43f5-dc16-5c7c298e4ae9"
      },
      "execution_count": null,
      "outputs": [
        {
          "output_type": "stream",
          "name": "stderr",
          "text": [
            "[nltk_data] Downloading package wordnet to /root/nltk_data...\n"
          ]
        }
      ]
    },
    {
      "cell_type": "code",
      "source": [
        "# TEXT PREPROCESSING\n",
        "from nltk.corpus import stopwords\n",
        "stop_words = set(stopwords.words(\"english\"))\n",
        "# Lemmatizer, REMOVAL OF STOP WORDS , CONVERTING INTO LOWER CASE\n",
        "lemmatizer = WordNetLemmatizer()\n",
        "corpus1 = []\n",
        "for i in range(len(df)):\n",
        "    review = re.sub('[^a-zA-Z]', ' ', str(df['text'].iloc[i]))\n",
        "    review = review.lower()\n",
        "    review = review.split()\n",
        "\n",
        "    review =  [lemmatizer.lemmatize(word) for word in review if not word in stop_words]\n",
        "    review = ' '.join(review)\n",
        "    corpus1.append(review)"
      ],
      "metadata": {
        "id": "17xx2SrmpXl2"
      },
      "execution_count": null,
      "outputs": []
    },
    {
      "cell_type": "code",
      "source": [
        "corpus1[:5]"
      ],
      "metadata": {
        "colab": {
          "base_uri": "https://localhost:8080/"
        },
        "id": "eaAf-G3npfPH",
        "outputId": "79a305ef-a017-4c87-dd69-308ecfe23422"
      },
      "execution_count": null,
      "outputs": [
        {
          "output_type": "execute_result",
          "data": {
            "text/plain": [
              "['trying happy knowing dead soonit worth trying get help anymore man rushing suicide eventually run grew kinda normally mom dad divorced like became asshole hurt people broke thing hated everything lived mental hospital year basically till around time learned family secret dad biological father mom rightfully hate got sent boot camp basically lived like fucking animal zoo fat nerdy ginger kid always fucking got started violent outburst happen since got rejected friend guy girl knew bi turned open family belief also tried kill real always made weak attempt attention one actually take life also never stayed school bullied lot used failed attempt try get help nobody cared everything hurt tried warn everyone killing guess boy cried wolf long lost effect gonna worry wrinkle brow cuz nothing ever gonna alright matter struggle strive never get world alive',\n",
              " 'stop mind jumping suicide time like devil shoulder whispering time something go wrong growing life seemed hopeless parent abuse away wish could reprogram brain stop definitely started get better slow arduous process wish carry much baggage abuse dealt',\n",
              " 'central gen z nostalgia hannah montana jessie hannah montana show dead',\n",
              " 'im gonna open friend self harm im pretty sure ill next hour',\n",
              " 'right ended long time ago every day go seems affirm suspicion killed long time ago short time revolution hand find way ruin memory person people attracted driving away friend family lover fall deeper lonely abyss nothing like person used bit self aware sure bitter angry depressed fleeting period joy punctuate smog sadness frustration tried seek help sure time time even much damn dent show least done point prior people mourn passing death would meaning impact left legacy feel shameful people would still love call friend mourn passing glad gone worse care gotten much worse truly driven away time bitterly aware emotion swinging even violently across spectrum bout anger worse spiteful disgusted world around feel sickening response growing harder ignore know end violently hope damned much find courage time use momentum act stop dumbfuck harm']"
            ]
          },
          "metadata": {},
          "execution_count": 17
        }
      ]
    },
    {
      "cell_type": "code",
      "source": [
        "from tensorflow.keras.preprocessing.text import one_hot\n",
        "voc_size=10000\n",
        "onehot_repr=[one_hot(words,voc_size)for words in corpus1]\n",
        "\n",
        "encoding = [one_hot(words,vocab_size) for words in corpus1]\n",
        "emb_docs=pad_sequences(onehot_repr,padding='pre',maxlen=20)\n",
        "print(emb_docs)"
      ],
      "metadata": {
        "colab": {
          "base_uri": "https://localhost:8080/"
        },
        "id": "ChCPlAR0iz7l",
        "outputId": "7329f486-e80b-4203-fd45-6af70f340efb"
      },
      "execution_count": null,
      "outputs": [
        {
          "output_type": "stream",
          "name": "stdout",
          "text": [
            "[[6344 2795 7325 ... 5299 4367  963]\n",
            " [1210 7239 8320 ... 2199 1210  580]\n",
            " [   0    0    0 ... 7755 5470 6469]\n",
            " ...\n",
            " [   0    0    0 ... 9801  800 2526]\n",
            " [9438 8950 5280 ... 8012  803 6748]\n",
            " [   0    0    0 ... 1665 6353 8117]]\n"
          ]
        }
      ]
    },
    {
      "cell_type": "code",
      "source": [
        "nltk.download('vader_lexicon')\n",
        "sid = SentimentIntensityAnalyzer()"
      ],
      "metadata": {
        "colab": {
          "base_uri": "https://localhost:8080/"
        },
        "id": "mRxII0jkmaof",
        "outputId": "b1a1ac9c-09ac-46f9-f781-94368c46b16f"
      },
      "execution_count": null,
      "outputs": [
        {
          "output_type": "stream",
          "name": "stderr",
          "text": [
            "[nltk_data] Downloading package vader_lexicon to /root/nltk_data...\n"
          ]
        }
      ]
    },
    {
      "cell_type": "code",
      "source": [
        "from tensorflow.keras.layers import Flatten\n",
        "import keras"
      ],
      "metadata": {
        "id": "4BWQ6rQrm7Z5"
      },
      "execution_count": null,
      "outputs": []
    },
    {
      "cell_type": "markdown",
      "source": [
        "LSTM"
      ],
      "metadata": {
        "id": "GoZQR7pvTjti"
      }
    },
    {
      "cell_type": "code",
      "source": [
        "def create_model():\n",
        "    modellstm = Sequential()\n",
        "    modellstm.add(Embedding(voc_size, 30, input_length=20))\n",
        "    modellstm.add(LSTM(128, dropout=0.2, recurrent_dropout=0.2, return_sequences=True))\n",
        "    modellstm.add(LSTM(128, dropout=0.2, recurrent_dropout=0.2))\n",
        "    #modellstm.add(LSTM(64, dropout=0.1, recurrent_dropout=0.1))\n",
        "    modellstm.add(Dense(64, activation='relu'))\n",
        "    modellstm.add(Dense(1, activation='sigmoid'))\n",
        "    modellstm.compile(loss='binary_crossentropy', optimizer='adam', metrics=['accuracy'])\n",
        "\n",
        "\n",
        "  #modellstm.compile(loss='binary_crossentropy',optimizer=keras.optimizers.RMSprop(learning_rate=1e-4),metrics=[tf.keras.metrics.BinaryAccuracy()])\n",
        "    print(modellstm.summary())\n",
        "    return modellstm\n",
        "\n"
      ],
      "metadata": {
        "id": "QJkwqpRZnkbH"
      },
      "execution_count": null,
      "outputs": []
    },
    {
      "cell_type": "code",
      "source": [
        "lstm=create_model()\n"
      ],
      "metadata": {
        "colab": {
          "base_uri": "https://localhost:8080/"
        },
        "id": "73Ddmergqbxh",
        "outputId": "81ebe3df-d870-4742-bf82-76164ce1019a"
      },
      "execution_count": null,
      "outputs": [
        {
          "output_type": "stream",
          "name": "stdout",
          "text": [
            "Model: \"sequential_1\"\n",
            "_________________________________________________________________\n",
            " Layer (type)                Output Shape              Param #   \n",
            "=================================================================\n",
            " embedding_1 (Embedding)     (None, 20, 30)            300000    \n",
            "                                                                 \n",
            " lstm_2 (LSTM)               (None, 20, 128)           81408     \n",
            "                                                                 \n",
            " lstm_3 (LSTM)               (None, 128)               131584    \n",
            "                                                                 \n",
            " dense_2 (Dense)             (None, 64)                8256      \n",
            "                                                                 \n",
            " dense_3 (Dense)             (None, 1)                 65        \n",
            "                                                                 \n",
            "=================================================================\n",
            "Total params: 521,313\n",
            "Trainable params: 521,313\n",
            "Non-trainable params: 0\n",
            "_________________________________________________________________\n",
            "None\n"
          ]
        }
      ]
    },
    {
      "cell_type": "code",
      "source": [
        "y=df['class']"
      ],
      "metadata": {
        "id": "WjDXcJ2zrBax"
      },
      "execution_count": null,
      "outputs": []
    },
    {
      "cell_type": "markdown",
      "source": [
        "10 fold"
      ],
      "metadata": {
        "id": "FEelGd-z07Ts"
      }
    },
    {
      "cell_type": "code",
      "execution_count": null,
      "metadata": {
        "id": "Px3HwLKTEozj"
      },
      "outputs": [],
      "source": [
        "from sklearn.model_selection import train_test_split, cross_val_score, KFold\n"
      ]
    },
    {
      "cell_type": "code",
      "source": [],
      "metadata": {
        "id": "stkqKYc1RIO_"
      },
      "execution_count": null,
      "outputs": []
    },
    {
      "cell_type": "code",
      "source": [
        "num_folds = 5\n",
        "kfold = KFold(n_splits=num_folds)\n",
        "accuracy_scores = []\n",
        "emb_docs=np.array(emb_docs)\n",
        "y=np.array(y)\n",
        "\n",
        "\n",
        "for train_indices, test_indices in kfold.split(emb_docs,y):\n",
        "    train_data = df.iloc[train_indices]\n",
        "    test_data = df.iloc[test_indices]\n",
        "    X_train, X_test = emb_docs[train_indices], emb_docs[test_indices]\n",
        "    Y_train, Y_test = y[train_indices], y[test_indices]\n",
        "\n",
        "    lstm.fit(X_train, Y_train, epochs=10, batch_size=64)\n",
        "\n",
        "    lstm_predictions = lstm.predict(X_test)\n",
        "    #print(lstm_predictions)\n",
        "    # Calculate sentiment scores for the current fold's test set\n",
        "    test_sentiment_scores = [sid.polarity_scores(str(text))[\"compound\"] for text in test_data[\"text\"]]\n",
        "\n",
        "    combined_features = np.column_stack((lstm_predictions[:len(test_sentiment_scores)], test_sentiment_scores))\n",
        "    #print(combined_features)\n",
        "\n",
        "    svm = LinearSVC()\n",
        "    svm.fit(combined_features, Y_test[:len(combined_features)])\n",
        "\n",
        "    svm_predictions = svm.predict(combined_features)\n",
        "    print(svm_predictions)\n",
        "    accuracy = accuracy_score(Y_test[:len(combined_features)], svm_predictions)\n",
        "    accuracy_scores.append(accuracy)\n"
      ],
      "metadata": {
        "colab": {
          "base_uri": "https://localhost:8080/"
        },
        "id": "ij4nXRDAzgs7",
        "outputId": "3dc1f0ed-a8ff-4fcd-fd8a-e004bebeabb0"
      },
      "execution_count": null,
      "outputs": [
        {
          "output_type": "stream",
          "name": "stdout",
          "text": [
            "Epoch 1/10\n",
            "375/375 [==============================] - 80s 188ms/step - loss: 0.3685 - accuracy: 0.8459\n",
            "Epoch 2/10\n",
            "375/375 [==============================] - 64s 170ms/step - loss: 0.2502 - accuracy: 0.9011\n",
            "Epoch 3/10\n",
            "375/375 [==============================] - 59s 158ms/step - loss: 0.2127 - accuracy: 0.9193\n",
            "Epoch 4/10\n",
            "375/375 [==============================] - 59s 159ms/step - loss: 0.1823 - accuracy: 0.9330\n",
            "Epoch 5/10\n",
            "375/375 [==============================] - 59s 156ms/step - loss: 0.1570 - accuracy: 0.9440\n",
            "Epoch 6/10\n",
            "375/375 [==============================] - 58s 156ms/step - loss: 0.1361 - accuracy: 0.9507\n",
            "Epoch 7/10\n",
            "375/375 [==============================] - 58s 156ms/step - loss: 0.1159 - accuracy: 0.9601\n",
            "Epoch 8/10\n",
            "375/375 [==============================] - 58s 156ms/step - loss: 0.0976 - accuracy: 0.9665\n",
            "Epoch 9/10\n",
            "375/375 [==============================] - 58s 155ms/step - loss: 0.0864 - accuracy: 0.9700\n",
            "Epoch 10/10\n",
            "375/375 [==============================] - 58s 156ms/step - loss: 0.0762 - accuracy: 0.9736\n",
            "188/188 [==============================] - 5s 21ms/step\n",
            "[1 1 0 ... 1 1 1]\n",
            "Epoch 1/10\n",
            "375/375 [==============================] - 58s 153ms/step - loss: 0.1637 - accuracy: 0.9457\n",
            "Epoch 2/10\n",
            "375/375 [==============================] - 58s 154ms/step - loss: 0.1109 - accuracy: 0.9640\n",
            "Epoch 3/10\n",
            "375/375 [==============================] - 58s 154ms/step - loss: 0.0871 - accuracy: 0.9707\n",
            "Epoch 4/10\n",
            "375/375 [==============================] - 58s 156ms/step - loss: 0.0691 - accuracy: 0.9766\n",
            "Epoch 5/10\n",
            "375/375 [==============================] - 58s 156ms/step - loss: 0.0578 - accuracy: 0.9793\n",
            "Epoch 6/10\n",
            "375/375 [==============================] - 59s 156ms/step - loss: 0.0512 - accuracy: 0.9827\n",
            "Epoch 7/10\n",
            "375/375 [==============================] - 58s 156ms/step - loss: 0.0395 - accuracy: 0.9863\n",
            "Epoch 8/10\n",
            "375/375 [==============================] - 58s 156ms/step - loss: 0.0371 - accuracy: 0.9875\n",
            "Epoch 9/10\n",
            "375/375 [==============================] - 58s 155ms/step - loss: 0.0317 - accuracy: 0.9891\n",
            "Epoch 10/10\n",
            "375/375 [==============================] - 58s 156ms/step - loss: 0.0311 - accuracy: 0.9888\n",
            "188/188 [==============================] - 3s 16ms/step\n",
            "[1 0 0 ... 1 1 1]\n",
            "Epoch 1/10\n",
            "375/375 [==============================] - 58s 155ms/step - loss: 0.0863 - accuracy: 0.9705\n",
            "Epoch 2/10\n",
            "375/375 [==============================] - 58s 156ms/step - loss: 0.0494 - accuracy: 0.9842\n",
            "Epoch 3/10\n",
            "375/375 [==============================] - 58s 155ms/step - loss: 0.0400 - accuracy: 0.9856\n",
            "Epoch 4/10\n",
            "375/375 [==============================] - 58s 155ms/step - loss: 0.0324 - accuracy: 0.9878\n",
            "Epoch 5/10\n",
            "375/375 [==============================] - 58s 156ms/step - loss: 0.0270 - accuracy: 0.9902\n",
            "Epoch 6/10\n",
            "375/375 [==============================] - 58s 156ms/step - loss: 0.0271 - accuracy: 0.9898\n",
            "Epoch 7/10\n",
            "375/375 [==============================] - 58s 155ms/step - loss: 0.0227 - accuracy: 0.9911\n",
            "Epoch 8/10\n",
            "375/375 [==============================] - 59s 156ms/step - loss: 0.0222 - accuracy: 0.9920\n",
            "Epoch 9/10\n",
            "375/375 [==============================] - 58s 155ms/step - loss: 0.0171 - accuracy: 0.9942\n",
            "Epoch 10/10\n",
            "375/375 [==============================] - 58s 154ms/step - loss: 0.0160 - accuracy: 0.9941\n",
            "188/188 [==============================] - 3s 16ms/step\n",
            "[1 0 0 ... 1 1 0]\n",
            "Epoch 1/10\n",
            "375/375 [==============================] - 58s 156ms/step - loss: 0.0528 - accuracy: 0.9827\n",
            "Epoch 2/10\n",
            "375/375 [==============================] - 58s 155ms/step - loss: 0.0274 - accuracy: 0.9902\n",
            "Epoch 3/10\n",
            "375/375 [==============================] - 58s 154ms/step - loss: 0.0207 - accuracy: 0.9930\n",
            "Epoch 4/10\n",
            "375/375 [==============================] - 58s 153ms/step - loss: 0.0200 - accuracy: 0.9935\n",
            "Epoch 5/10\n",
            "375/375 [==============================] - 58s 154ms/step - loss: 0.0177 - accuracy: 0.9942\n",
            "Epoch 6/10\n",
            "375/375 [==============================] - 58s 156ms/step - loss: 0.0165 - accuracy: 0.9942\n",
            "Epoch 7/10\n",
            "375/375 [==============================] - 59s 156ms/step - loss: 0.0157 - accuracy: 0.9941\n",
            "Epoch 8/10\n",
            "375/375 [==============================] - 58s 156ms/step - loss: 0.0127 - accuracy: 0.9953\n",
            "Epoch 9/10\n",
            "375/375 [==============================] - 59s 156ms/step - loss: 0.0131 - accuracy: 0.9954\n",
            "Epoch 10/10\n",
            "375/375 [==============================] - 59s 157ms/step - loss: 0.0132 - accuracy: 0.9956\n",
            "188/188 [==============================] - 3s 17ms/step\n",
            "[0 0 0 ... 0 1 0]\n",
            "Epoch 1/10\n",
            "375/375 [==============================] - 59s 157ms/step - loss: 0.0318 - accuracy: 0.9890\n",
            "Epoch 2/10\n",
            "375/375 [==============================] - 59s 156ms/step - loss: 0.0170 - accuracy: 0.9942\n",
            "Epoch 3/10\n",
            "375/375 [==============================] - 58s 156ms/step - loss: 0.0143 - accuracy: 0.9951\n",
            "Epoch 4/10\n",
            "375/375 [==============================] - 58s 156ms/step - loss: 0.0134 - accuracy: 0.9951\n",
            "Epoch 5/10\n",
            "375/375 [==============================] - 59s 156ms/step - loss: 0.0101 - accuracy: 0.9967\n",
            "Epoch 6/10\n",
            "375/375 [==============================] - 59s 156ms/step - loss: 0.0110 - accuracy: 0.9959\n",
            "Epoch 7/10\n",
            "375/375 [==============================] - 59s 157ms/step - loss: 0.0113 - accuracy: 0.9957\n",
            "Epoch 8/10\n",
            "375/375 [==============================] - 59s 156ms/step - loss: 0.0088 - accuracy: 0.9970\n",
            "Epoch 9/10\n",
            "375/375 [==============================] - 59s 157ms/step - loss: 0.0106 - accuracy: 0.9960\n",
            "Epoch 10/10\n",
            "375/375 [==============================] - 58s 156ms/step - loss: 0.0089 - accuracy: 0.9968\n",
            "188/188 [==============================] - 3s 16ms/step\n",
            "[0 1 1 ... 0 1 0]\n"
          ]
        }
      ]
    },
    {
      "cell_type": "code",
      "source": [
        "print(np.mean(accuracy_scores))"
      ],
      "metadata": {
        "id": "CA7bQvbE-FCb",
        "colab": {
          "base_uri": "https://localhost:8080/"
        },
        "outputId": "761a3b25-1644-487a-fc88-b2635f9724e5"
      },
      "execution_count": null,
      "outputs": [
        {
          "output_type": "stream",
          "name": "stdout",
          "text": [
            "0.9372333333333334\n"
          ]
        }
      ]
    },
    {
      "cell_type": "code",
      "source": [
        "import joblib\n",
        "\n",
        "joblib.dump(svm, '/content/drive/MyDrive/Identifying Suicidal Intent through Depression Detection from Texts using Machine Learning Techniques/model/SVM_MODEL.pkl')"
      ],
      "metadata": {
        "colab": {
          "base_uri": "https://localhost:8080/"
        },
        "id": "703JOANS-w7-",
        "outputId": "0fd24f29-e498-44d2-c6fd-b664560451a3"
      },
      "execution_count": null,
      "outputs": [
        {
          "output_type": "execute_result",
          "data": {
            "text/plain": [
              "['/content/drive/MyDrive/Identifying Suicidal Intent through Depression Detection from Texts using Machine Learning Techniques/model/SVM_MODEL.pkl']"
            ]
          },
          "metadata": {},
          "execution_count": 30
        }
      ]
    },
    {
      "cell_type": "code",
      "source": [
        "lstm.save('/content/drive/MyDrive/Identifying Suicidal Intent through Depression Detection from Texts using Machine Learning Techniques/model/LSTM_model.h5')"
      ],
      "metadata": {
        "id": "Rm-gUi0p-9-n"
      },
      "execution_count": null,
      "outputs": []
    }
  ]
}